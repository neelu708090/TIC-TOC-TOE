{
 "cells": [
  {
   "cell_type": "markdown",
   "id": "2afadbfa",
   "metadata": {},
   "source": [
    "Step 1- A board to display the player."
   ]
  },
  {
   "cell_type": "code",
   "execution_count": 1,
   "id": "b1e01165",
   "metadata": {},
   "outputs": [],
   "source": [
    "from IPython.display import clear_output\n",
    "def display_board(board):\n",
    "    clear_output()\n",
    "    print('   |   | ')\n",
    "    print(' '+board[7]+' | '+board[8]+' | '+board[9])\n",
    "    print('   |   | ')\n",
    "    print('-----------')\n",
    "    print('   |   | ')\n",
    "    print(' '+board[4]+' | '+board[5]+' | '+board[6])\n",
    "    print('   |   | ')\n",
    "    print('-----------')\n",
    "    print('   |   | ')\n",
    "    print(' '+board[1]+' | '+board[2]+' | '+board[3])\n",
    "    print('   |   | ')"
   ]
  },
  {
   "cell_type": "markdown",
   "id": "f8380f16",
   "metadata": {},
   "source": [
    "sample_board=[' ']*10\n",
    "display_board(sample_board)"
   ]
  },
  {
   "cell_type": "markdown",
   "id": "b3322e01",
   "metadata": {},
   "source": [
    "Step 2- Function to take input from the player."
   ]
  },
  {
   "cell_type": "code",
   "execution_count": 2,
   "id": "4ba84053",
   "metadata": {},
   "outputs": [],
   "source": [
    "def player_input():\n",
    "    #A EMPTY VARIABLE OF STR DATATYPE.\n",
    "    marker=''\n",
    "    #while loop is running till the condition is false.\n",
    "    while marker!='X' and marker!='O':\n",
    "        marker=input('Player 1 choose X or O: ').upper()\n",
    "        player1=marker\n",
    "        \n",
    "        if player1=='X':\n",
    "            player2='O'\n",
    "        else:\n",
    "            player2='X'\n",
    "    return(player1,player2)"
   ]
  },
  {
   "cell_type": "markdown",
   "id": "f0ea4f20",
   "metadata": {},
   "source": [
    "#Tuple Unpacking.\n",
    "player1_value,player2_value=player_input()"
   ]
  },
  {
   "cell_type": "markdown",
   "id": "e86d9132",
   "metadata": {},
   "source": [
    "player1_value=X"
   ]
  },
  {
   "cell_type": "code",
   "execution_count": 3,
   "id": "58aed8fa",
   "metadata": {},
   "outputs": [],
   "source": [
    "def place_marker(board,marker,position):\n",
    "    board[position]=marker"
   ]
  },
  {
   "cell_type": "markdown",
   "id": "f96241a7",
   "metadata": {},
   "source": [
    "player2_value=O"
   ]
  },
  {
   "cell_type": "code",
   "execution_count": 4,
   "id": "c26f146f",
   "metadata": {},
   "outputs": [],
   "source": [
    "def win_check(board,mark):\n",
    "    \n",
    "    return ((board[7] == mark and board[8] == mark and board[9] == mark) or # across the top\n",
    "    (board[4] == mark and board[5] == mark and board[6] == mark) or # across the middle\n",
    "    (board[1] == mark and board[2] == mark and board[3] == mark) or # across the bottom\n",
    "    (board[7] == mark and board[4] == mark and board[1] == mark) or # down the middle\n",
    "    (board[8] == mark and board[5] == mark and board[2] == mark) or # down the middle\n",
    "    (board[9] == mark and board[6] == mark and board[3] == mark) or # down the right side\n",
    "    (board[7] == mark and board[5] == mark and board[3] == mark) or # diagonal\n",
    "    (board[9] == mark and board[5] == mark and board[1] == mark)) # diagonal"
   ]
  },
  {
   "cell_type": "code",
   "execution_count": 5,
   "id": "de792099",
   "metadata": {},
   "outputs": [],
   "source": [
    "import random\n",
    "def choose_first():\n",
    "    if random.randint(0,1)==0:\n",
    "        return'Player 2'\n",
    "    else:\n",
    "        return 'Player 1'\n",
    "    "
   ]
  },
  {
   "cell_type": "code",
   "execution_count": 6,
   "id": "fa58d742",
   "metadata": {},
   "outputs": [],
   "source": [
    "def space_check(board,position):\n",
    "    return board[position]==' '"
   ]
  },
  {
   "cell_type": "markdown",
   "id": "9035354c",
   "metadata": {},
   "source": [
    "space_check(sample_board,9)"
   ]
  },
  {
   "cell_type": "code",
   "execution_count": 7,
   "id": "ec3c1998",
   "metadata": {},
   "outputs": [],
   "source": [
    "def full_board_check(board):\n",
    "    for i in range(1,10):\n",
    "        if space_check(board,i):\n",
    "            return False\n",
    "    return True"
   ]
  },
  {
   "cell_type": "markdown",
   "id": "2cc21710",
   "metadata": {},
   "source": [
    "full_board_check(sample_board)"
   ]
  },
  {
   "cell_type": "code",
   "execution_count": 8,
   "id": "24445d3b",
   "metadata": {},
   "outputs": [],
   "source": [
    "def player_choice(board):\n",
    "    position=0\n",
    "    while position not in [1,2,3,4,5,6,7,8,9] or not space_check(board,position):\n",
    "        position=int(input('Chooseyour next position:(1-9) '))\n",
    "        return position"
   ]
  },
  {
   "cell_type": "code",
   "execution_count": 9,
   "id": "b4504a56",
   "metadata": {},
   "outputs": [],
   "source": [
    "def replay():\n",
    "    return input('Do you want to play again? Enter Yes or No.').lower().startswith('y')"
   ]
  },
  {
   "cell_type": "markdown",
   "id": "86d1d917",
   "metadata": {},
   "source": [
    "replay()"
   ]
  },
  {
   "cell_type": "code",
   "execution_count": 10,
   "id": "29a10269",
   "metadata": {},
   "outputs": [
    {
     "name": "stdout",
     "output_type": "stream",
     "text": [
      "   |   | \n",
      " X |   | O\n",
      "   |   | \n",
      "-----------\n",
      "   |   | \n",
      "   | X | O\n",
      "   |   | \n",
      "-----------\n",
      "   |   | \n",
      " O | X | O\n",
      "   |   | \n",
      "Player 2 has won! \n",
      "Do you want to play again? Enter Yes or No.No\n"
     ]
    }
   ],
   "source": [
    "#Start the game\n",
    "print('Welcome to TIC TOC TOE! ')\n",
    "#take a while loop till True.\n",
    "while True:\n",
    "    #Reset the board.\n",
    "    #make a list as board.\n",
    "    \n",
    "    the_board=[' ']*10\n",
    "    \n",
    "    #take the input from the player call the input function.\n",
    "    \n",
    "    player1_marker,player2_marker=player_input()\n",
    "    \n",
    "    #make a variable turn in which the value of player who play first is stored using random choose_first function.\n",
    "    turn=choose_first()\n",
    "    \n",
    "    print(turn+' will go first. ')\n",
    "    \n",
    "    #make a variable play_game that is taking input from the player to start the game.\n",
    "    \n",
    "    play_game=input('Are you ready to play? Enter Yes or No. ')\n",
    "    #condition\n",
    "    if play_game =='Yes':\n",
    "     #a varaible game_on stores the value True or False to start the game.\n",
    "        game_on= True\n",
    "    else:\n",
    "        game_on=False\n",
    "    #start a loop till the game_on is True.\n",
    "    while game_on:\n",
    "        if turn=='Player 1':\n",
    "        # Player 1 turn.\n",
    "        # Display the board to show the Player.Call the display_board function.\n",
    "            display_board(the_board)\n",
    "        #call the function player_choice and return the position.\n",
    "            position=player_choice(the_board)\n",
    "        #return the index value where the player want to fill X or O.\n",
    "            place_marker(the_board,player1_marker,position)\n",
    "            if win_check(the_board,player1_marker):\n",
    "                display_board(the_board)\n",
    "                print('Player 1 has won! ')\n",
    "                game_on=False\n",
    "            else:\n",
    "                if full_board_check(the_board):\n",
    "                    display_board(the_board)\n",
    "                    print('Game Tied!. ')\n",
    "                    break\n",
    "                else:\n",
    "                    turn='Player 2'\n",
    "        else:\n",
    "            display_board(the_board)\n",
    "        #call the function player_choice and return the position.\n",
    "            position=player_choice(the_board)\n",
    "        #return the index value where the player want to fill X or O.\n",
    "            place_marker(the_board,player2_marker,position)\n",
    "            if win_check(the_board,player2_marker):\n",
    "                display_board(the_board)\n",
    "                print('Player 2 has won! ')\n",
    "                game_on=False\n",
    "            else:\n",
    "                if full_board_check(the_board):\n",
    "                    display_board(the_board)\n",
    "                    print('Game Tied!. ')\n",
    "                    break\n",
    "                else:\n",
    "                    turn='Player 1'\n",
    "    if not replay():\n",
    "        break\n",
    "            \n",
    "        \n",
    "        \n",
    "    "
   ]
  }
 ],
 "metadata": {
  "kernelspec": {
   "display_name": "Python 3",
   "language": "python",
   "name": "python3"
  },
  "language_info": {
   "codemirror_mode": {
    "name": "ipython",
    "version": 3
   },
   "file_extension": ".py",
   "mimetype": "text/x-python",
   "name": "python",
   "nbconvert_exporter": "python",
   "pygments_lexer": "ipython3",
   "version": "3.8.8"
  }
 },
 "nbformat": 4,
 "nbformat_minor": 5
}
